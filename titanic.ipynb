{
 "cells": [
  {
   "cell_type": "code",
   "execution_count": 4,
   "metadata": {},
   "outputs": [
    {
     "name": "stdout",
     "output_type": "stream",
     "text": [
      "     PassengerId  Survived  Pclass  \\\n",
      "0              1         0       3   \n",
      "1              2         1       1   \n",
      "2              3         1       3   \n",
      "3              4         1       1   \n",
      "4              5         0       3   \n",
      "..           ...       ...     ...   \n",
      "886          887         0       2   \n",
      "887          888         1       1   \n",
      "888          889         0       3   \n",
      "889          890         1       1   \n",
      "890          891         0       3   \n",
      "\n",
      "                                                  Name     Sex   Age  SibSp  \\\n",
      "0                              Braund, Mr. Owen Harris    male  22.0      1   \n",
      "1    Cumings, Mrs. John Bradley (Florence Briggs Th...  female  38.0      1   \n",
      "2                               Heikkinen, Miss. Laina  female  26.0      0   \n",
      "3         Futrelle, Mrs. Jacques Heath (Lily May Peel)  female  35.0      1   \n",
      "4                             Allen, Mr. William Henry    male  35.0      0   \n",
      "..                                                 ...     ...   ...    ...   \n",
      "886                              Montvila, Rev. Juozas    male  27.0      0   \n",
      "887                       Graham, Miss. Margaret Edith  female  19.0      0   \n",
      "888           Johnston, Miss. Catherine Helen \"Carrie\"  female   NaN      1   \n",
      "889                              Behr, Mr. Karl Howell    male  26.0      0   \n",
      "890                                Dooley, Mr. Patrick    male  32.0      0   \n",
      "\n",
      "     Parch            Ticket     Fare Cabin Embarked  \n",
      "0        0         A/5 21171   7.2500   NaN        S  \n",
      "1        0          PC 17599  71.2833   C85        C  \n",
      "2        0  STON/O2. 3101282   7.9250   NaN        S  \n",
      "3        0            113803  53.1000  C123        S  \n",
      "4        0            373450   8.0500   NaN        S  \n",
      "..     ...               ...      ...   ...      ...  \n",
      "886      0            211536  13.0000   NaN        S  \n",
      "887      0            112053  30.0000   B42        S  \n",
      "888      2        W./C. 6607  23.4500   NaN        S  \n",
      "889      0            111369  30.0000  C148        C  \n",
      "890      0            370376   7.7500   NaN        Q  \n",
      "\n",
      "[891 rows x 12 columns]\n"
     ]
    }
   ],
   "source": [
    "%matplotlib inline\n",
    "import matplotlib.pyplot as plt\n",
    "import pandas as pd\n",
    "import numpy as np\n",
    "import seaborn as sns\n",
    "import random\n",
    "import lightgbm as lgb\n",
    "from sklearn.preprocessing import LabelEncoder\n",
    "from sklearn.model_selection import train_test_split\n",
    "from sklearn.model_selection import KFold\n",
    "\n",
    "np.random.seed(123456789)\n",
    "random.seed(123456789)\n",
    "pd.set_option(\"display.max_columns\", 50)\n",
    "pd.set_option(\"display.max_rows\", 50)\n",
    "plt.style.use(\"ggplot\")\n",
    "\n",
    "# カラム\n",
    "# PassengerId: 旅客ID\n",
    "# Survived: 生存(1: 生存、0: 死亡)\n",
    "# Pclass: チケットクラス(1 > 2 > 3)\n",
    "# Name: 名前\n",
    "# Sex: 性別\n",
    "# Age: 年齢\n",
    "# SibSp: 同乗の兄弟/配偶者の数\n",
    "# Parch: 同乗の親/子供の数\n",
    "# Ticket: チケット番号\n",
    "# Fare: 料金\n",
    "# Cabin: 客室\n",
    "# Embarked: 乗った港(C: Cherbourg, Q: Queenstown, S: Southampton)\n",
    "df = pd.DataFrame(pd.read_csv('./train.csv'))\n",
    "print(df)\n",
    "\n",
    "test_df = pd.DataFrame(pd.read_csv('./test.csv'))"
   ]
  },
  {
   "cell_type": "code",
   "execution_count": 5,
   "metadata": {
    "scrolled": true
   },
   "outputs": [
    {
     "name": "stdout",
     "output_type": "stream",
     "text": [
      "shape: (891, 12)\n",
      "<class 'pandas.core.frame.DataFrame'>\n",
      "RangeIndex: 891 entries, 0 to 890\n",
      "Data columns (total 12 columns):\n",
      " #   Column       Non-Null Count  Dtype  \n",
      "---  ------       --------------  -----  \n",
      " 0   PassengerId  891 non-null    int64  \n",
      " 1   Survived     891 non-null    int64  \n",
      " 2   Pclass       891 non-null    int64  \n",
      " 3   Name         891 non-null    object \n",
      " 4   Sex          891 non-null    object \n",
      " 5   Age          714 non-null    float64\n",
      " 6   SibSp        891 non-null    int64  \n",
      " 7   Parch        891 non-null    int64  \n",
      " 8   Ticket       891 non-null    object \n",
      " 9   Fare         891 non-null    float64\n",
      " 10  Cabin        204 non-null    object \n",
      " 11  Embarked     889 non-null    object \n",
      "dtypes: float64(2), int64(5), object(5)\n",
      "memory usage: 83.7+ KB\n"
     ]
    }
   ],
   "source": [
    "# データの概要の確認\n",
    "print(\"shape: {}\".format(df.shape))\n",
    "df.info()"
   ]
  },
  {
   "cell_type": "code",
   "execution_count": 6,
   "metadata": {},
   "outputs": [
    {
     "data": {
      "text/html": [
       "<div>\n",
       "<style scoped>\n",
       "    .dataframe tbody tr th:only-of-type {\n",
       "        vertical-align: middle;\n",
       "    }\n",
       "\n",
       "    .dataframe tbody tr th {\n",
       "        vertical-align: top;\n",
       "    }\n",
       "\n",
       "    .dataframe thead th {\n",
       "        text-align: right;\n",
       "    }\n",
       "</style>\n",
       "<table border=\"1\" class=\"dataframe\">\n",
       "  <thead>\n",
       "    <tr style=\"text-align: right;\">\n",
       "      <th></th>\n",
       "      <th>PassengerId</th>\n",
       "      <th>Survived</th>\n",
       "      <th>Pclass</th>\n",
       "      <th>Age</th>\n",
       "      <th>SibSp</th>\n",
       "      <th>Parch</th>\n",
       "      <th>Fare</th>\n",
       "    </tr>\n",
       "  </thead>\n",
       "  <tbody>\n",
       "    <tr>\n",
       "      <th>count</th>\n",
       "      <td>891.000000</td>\n",
       "      <td>891.000000</td>\n",
       "      <td>891.000000</td>\n",
       "      <td>714.000000</td>\n",
       "      <td>891.000000</td>\n",
       "      <td>891.000000</td>\n",
       "      <td>891.000000</td>\n",
       "    </tr>\n",
       "    <tr>\n",
       "      <th>mean</th>\n",
       "      <td>446.000000</td>\n",
       "      <td>0.383838</td>\n",
       "      <td>2.308642</td>\n",
       "      <td>29.699118</td>\n",
       "      <td>0.523008</td>\n",
       "      <td>0.381594</td>\n",
       "      <td>32.204208</td>\n",
       "    </tr>\n",
       "    <tr>\n",
       "      <th>std</th>\n",
       "      <td>257.353842</td>\n",
       "      <td>0.486592</td>\n",
       "      <td>0.836071</td>\n",
       "      <td>14.526497</td>\n",
       "      <td>1.102743</td>\n",
       "      <td>0.806057</td>\n",
       "      <td>49.693429</td>\n",
       "    </tr>\n",
       "    <tr>\n",
       "      <th>min</th>\n",
       "      <td>1.000000</td>\n",
       "      <td>0.000000</td>\n",
       "      <td>1.000000</td>\n",
       "      <td>0.420000</td>\n",
       "      <td>0.000000</td>\n",
       "      <td>0.000000</td>\n",
       "      <td>0.000000</td>\n",
       "    </tr>\n",
       "    <tr>\n",
       "      <th>25%</th>\n",
       "      <td>223.500000</td>\n",
       "      <td>0.000000</td>\n",
       "      <td>2.000000</td>\n",
       "      <td>20.125000</td>\n",
       "      <td>0.000000</td>\n",
       "      <td>0.000000</td>\n",
       "      <td>7.910400</td>\n",
       "    </tr>\n",
       "    <tr>\n",
       "      <th>50%</th>\n",
       "      <td>446.000000</td>\n",
       "      <td>0.000000</td>\n",
       "      <td>3.000000</td>\n",
       "      <td>28.000000</td>\n",
       "      <td>0.000000</td>\n",
       "      <td>0.000000</td>\n",
       "      <td>14.454200</td>\n",
       "    </tr>\n",
       "    <tr>\n",
       "      <th>75%</th>\n",
       "      <td>668.500000</td>\n",
       "      <td>1.000000</td>\n",
       "      <td>3.000000</td>\n",
       "      <td>38.000000</td>\n",
       "      <td>1.000000</td>\n",
       "      <td>0.000000</td>\n",
       "      <td>31.000000</td>\n",
       "    </tr>\n",
       "    <tr>\n",
       "      <th>max</th>\n",
       "      <td>891.000000</td>\n",
       "      <td>1.000000</td>\n",
       "      <td>3.000000</td>\n",
       "      <td>80.000000</td>\n",
       "      <td>8.000000</td>\n",
       "      <td>6.000000</td>\n",
       "      <td>512.329200</td>\n",
       "    </tr>\n",
       "  </tbody>\n",
       "</table>\n",
       "</div>"
      ],
      "text/plain": [
       "       PassengerId    Survived      Pclass         Age       SibSp  \\\n",
       "count   891.000000  891.000000  891.000000  714.000000  891.000000   \n",
       "mean    446.000000    0.383838    2.308642   29.699118    0.523008   \n",
       "std     257.353842    0.486592    0.836071   14.526497    1.102743   \n",
       "min       1.000000    0.000000    1.000000    0.420000    0.000000   \n",
       "25%     223.500000    0.000000    2.000000   20.125000    0.000000   \n",
       "50%     446.000000    0.000000    3.000000   28.000000    0.000000   \n",
       "75%     668.500000    1.000000    3.000000   38.000000    1.000000   \n",
       "max     891.000000    1.000000    3.000000   80.000000    8.000000   \n",
       "\n",
       "            Parch        Fare  \n",
       "count  891.000000  891.000000  \n",
       "mean     0.381594   32.204208  \n",
       "std      0.806057   49.693429  \n",
       "min      0.000000    0.000000  \n",
       "25%      0.000000    7.910400  \n",
       "50%      0.000000   14.454200  \n",
       "75%      0.000000   31.000000  \n",
       "max      6.000000  512.329200  "
      ]
     },
     "execution_count": 6,
     "metadata": {},
     "output_type": "execute_result"
    }
   ],
   "source": [
    "df.describe()"
   ]
  },
  {
   "cell_type": "code",
   "execution_count": 7,
   "metadata": {
    "scrolled": true
   },
   "outputs": [
    {
     "name": "stdout",
     "output_type": "stream",
     "text": [
      "male      577\n",
      "female    314\n",
      "Name: Sex, dtype: int64\n",
      "S    644\n",
      "C    168\n",
      "Q     77\n",
      "Name: Embarked, dtype: int64\n",
      "C23 C25 C27    4\n",
      "B96 B98        4\n",
      "G6             4\n",
      "C22 C26        3\n",
      "D              3\n",
      "              ..\n",
      "C99            1\n",
      "D21            1\n",
      "C30            1\n",
      "C95            1\n",
      "B50            1\n",
      "Name: Cabin, Length: 147, dtype: int64\n"
     ]
    }
   ],
   "source": [
    "print(df[\"Sex\"].value_counts())\n",
    "print(df[\"Embarked\"].value_counts())\n",
    "print(df[\"Cabin\"].value_counts())"
   ]
  },
  {
   "cell_type": "code",
   "execution_count": 8,
   "metadata": {},
   "outputs": [
    {
     "name": "stdout",
     "output_type": "stream",
     "text": [
      "PassengerId      0\n",
      "Survived         0\n",
      "Pclass           0\n",
      "Name             0\n",
      "Sex              0\n",
      "Age            177\n",
      "SibSp            0\n",
      "Parch            0\n",
      "Ticket           0\n",
      "Fare             0\n",
      "Cabin          687\n",
      "Embarked         2\n",
      "dtype: int64\n"
     ]
    }
   ],
   "source": [
    "print(df.isnull().sum())"
   ]
  },
  {
   "cell_type": "code",
   "execution_count": 9,
   "metadata": {},
   "outputs": [
    {
     "name": "stdout",
     "output_type": "stream",
     "text": [
      "    Embarked  Survived  PassengerId\n",
      "0          S         0            1\n",
      "1          C         1            2\n",
      "2          S         1            3\n",
      "3          S         1            4\n",
      "4          S         0            5\n",
      "..       ...       ...          ...\n",
      "886        S         0          887\n",
      "887        S         1          888\n",
      "888        S         0          889\n",
      "889        C         1          890\n",
      "890        Q         0          891\n",
      "\n",
      "[891 rows x 3 columns]\n",
      "    Embarked  Survived  PassengerId\n",
      "0          S         0            1\n",
      "1          C         1            2\n",
      "2          S         1            3\n",
      "3          S         1            4\n",
      "4          S         0            5\n",
      "..       ...       ...          ...\n",
      "886        S         0          887\n",
      "887        S         1          888\n",
      "888        S         0          889\n",
      "889        C         1          890\n",
      "890        Q         0          891\n",
      "\n",
      "[889 rows x 3 columns]\n",
      "                   PassengerId\n",
      "Embarked Survived             \n",
      "C        0                  75\n",
      "         1                  93\n",
      "Q        0                  47\n",
      "         1                  30\n",
      "S        0                 427\n",
      "         1                 217\n",
      "         PassengerId     \n",
      "Survived           0    1\n",
      "Embarked                 \n",
      "C                 75   93\n",
      "Q                 47   30\n",
      "S                427  217\n",
      "         PassengerId      Survived_Rate\n",
      "Survived           0    1              \n",
      "Embarked                               \n",
      "C                 75   93      0.446429\n",
      "Q                 47   30      0.610390\n",
      "S                427  217      0.663043\n"
     ]
    },
    {
     "data": {
      "text/plain": [
       "<AxesSubplot:xlabel='Sex'>"
      ]
     },
     "execution_count": 9,
     "metadata": {},
     "output_type": "execute_result"
    },
    {
     "data": {
      "image/png": "[encoded data removed]",
      "text/plain": [
       "<Figure size 432x288 with 1 Axes>"
      ]
     },
     "metadata": {},
     "output_type": "display_data"
    },
    {
     "data": {
      "image/png": "[encoded data removed]",
      "text/plain": [
       "<Figure size 432x288 with 1 Axes>"
      ]
     },
     "metadata": {},
     "output_type": "display_data"
    }
   ],
   "source": [
    "print(df[[\"Embarked\", \"Survived\", \"PassengerId\"]])\n",
    "print(df[[\"Embarked\", \"Survived\", \"PassengerId\"]].dropna())\n",
    "print(df[[\"Embarked\", \"Survived\", \"PassengerId\"]].groupby([\"Embarked\", \"Survived\"]).count())\n",
    "embarked_df = df[[\"Embarked\", \"Survived\", \"PassengerId\"]].groupby([\"Embarked\", \"Survived\"]).count().unstack()\n",
    "print(embarked_df)\n",
    "embarked_df.plot.bar(stacked=True)\n",
    "embarked_df[\"Survived_Rate\"] = embarked_df.iloc[:, 0] / (embarked_df.iloc[:, 0] + embarked_df.iloc[:,1])\n",
    "print(embarked_df)\n",
    "\n",
    "sex_df = df[[\"Sex\", \"Survived\", \"PassengerId\"]].dropna().groupby([\"Sex\", \"Survived\"]).count().unstack()\n",
    "sex_df.plot.bar(stacked=True)"
   ]
  },
  {
   "cell_type": "code",
   "execution_count": 10,
   "metadata": {},
   "outputs": [
    {
     "data": {
      "text/plain": [
       "<AxesSubplot:xlabel='Pclass'>"
      ]
     },
     "execution_count": 10,
     "metadata": {},
     "output_type": "execute_result"
    },
    {
     "data": {
      "image/png": "[encoded data removed]",
      "text/plain": [
       "<Figure size 432x288 with 1 Axes>"
      ]
     },
     "metadata": {},
     "output_type": "display_data"
    }
   ],
   "source": [
    "ticket_df = df[[\"Pclass\", \"Survived\", \"PassengerId\"]].dropna().groupby([\"Pclass\", \"Survived\"]).count().unstack()\n",
    "ticket_df.plot.bar(stacked=True)"
   ]
  },
  {
   "cell_type": "code",
   "execution_count": 11,
   "metadata": {},
   "outputs": [
    {
     "data": {
      "text/plain": [
       "<matplotlib.legend.Legend at 0x10728f1f0>"
      ]
     },
     "execution_count": 11,
     "metadata": {},
     "output_type": "execute_result"
    },
    {
     "data": {
      "image/png": "[encoded data removed]",
      "text/plain": [
       "<Figure size 432x288 with 1 Axes>"
      ]
     },
     "metadata": {},
     "output_type": "display_data"
    }
   ],
   "source": [
    "a = df[df[\"Survived\"] == 0][[\"Age\"]].values\n",
    "b = df[df[\"Survived\"] == 1][[\"Age\"]].values\n",
    "plt.hist([a.flatten(), b.flatten()], histtype=\"barstacked\", bins=8, label=(\"Death\", \"Survived\"))\n",
    "plt.legend()"
   ]
  },
  {
   "cell_type": "code",
   "execution_count": 12,
   "metadata": {},
   "outputs": [
    {
     "name": "stdout",
     "output_type": "stream",
     "text": [
      "   PassengerId  Survived  Pclass  \\\n",
      "0            1         0       3   \n",
      "1            2         1       1   \n",
      "2            3         1       3   \n",
      "3            4         1       1   \n",
      "4            5         0       3   \n",
      "\n",
      "                                                Name   Age  SibSp  Parch  \\\n",
      "0                            Braund, Mr. Owen Harris  22.0      1      0   \n",
      "1  Cumings, Mrs. John Bradley (Florence Briggs Th...  38.0      1      0   \n",
      "2                             Heikkinen, Miss. Laina  26.0      0      0   \n",
      "3       Futrelle, Mrs. Jacques Heath (Lily May Peel)  35.0      1      0   \n",
      "4                           Allen, Mr. William Henry  35.0      0      0   \n",
      "\n",
      "             Ticket     Fare Cabin  Sex_male  Embarked_C  Embarked_Q  \\\n",
      "0         A/5 21171   7.2500   NaN         1           0           0   \n",
      "1          PC 17599  71.2833   C85         0           1           0   \n",
      "2  STON/O2. 3101282   7.9250   NaN         0           0           0   \n",
      "3            113803  53.1000  C123         0           0           0   \n",
      "4            373450   8.0500   NaN         1           0           0   \n",
      "\n",
      "   Embarked_S  \n",
      "0           1  \n",
      "1           0  \n",
      "2           1  \n",
      "3           1  \n",
      "4           1  \n",
      "             PassengerId  Survived    Pclass       Age     SibSp     Parch  \\\n",
      "PassengerId     1.000000 -0.005007 -0.035144  0.036847 -0.057527 -0.001652   \n",
      "Survived       -0.005007  1.000000 -0.338481 -0.077221 -0.035322  0.081629   \n",
      "Pclass         -0.035144 -0.338481  1.000000 -0.369226  0.083081  0.018443   \n",
      "Age             0.036847 -0.077221 -0.369226  1.000000 -0.308247 -0.189119   \n",
      "SibSp          -0.057527 -0.035322  0.083081 -0.308247  1.000000  0.414838   \n",
      "Parch          -0.001652  0.081629  0.018443 -0.189119  0.414838  1.000000   \n",
      "Fare            0.012658  0.257307 -0.549500  0.096067  0.159651  0.216225   \n",
      "Sex_male        0.042939 -0.543351  0.131900  0.093254 -0.114631 -0.245489   \n",
      "Embarked_C     -0.001205  0.168240 -0.243292  0.036261 -0.059528 -0.011069   \n",
      "Embarked_Q     -0.033606  0.003650  0.221009 -0.022405 -0.026354 -0.081228   \n",
      "Embarked_S      0.022148 -0.155660  0.081720 -0.032523  0.070941  0.063036   \n",
      "\n",
      "                 Fare  Sex_male  Embarked_C  Embarked_Q  Embarked_S  \n",
      "PassengerId  0.012658  0.042939   -0.001205   -0.033606    0.022148  \n",
      "Survived     0.257307 -0.543351    0.168240    0.003650   -0.155660  \n",
      "Pclass      -0.549500  0.131900   -0.243292    0.221009    0.081720  \n",
      "Age          0.096067  0.093254    0.036261   -0.022405   -0.032523  \n",
      "SibSp        0.159651 -0.114631   -0.059528   -0.026354    0.070941  \n",
      "Parch        0.216225 -0.245489   -0.011069   -0.081228    0.063036  \n",
      "Fare         1.000000 -0.182333    0.269335   -0.117216   -0.166603  \n",
      "Sex_male    -0.182333  1.000000   -0.082853   -0.074115    0.125722  \n",
      "Embarked_C   0.269335 -0.082853    1.000000   -0.148258   -0.778359  \n",
      "Embarked_Q  -0.117216 -0.074115   -0.148258    1.000000   -0.496624  \n",
      "Embarked_S  -0.166603  0.125722   -0.778359   -0.496624    1.000000  \n"
     ]
    },
    {
     "data": {
      "text/plain": [
       "<AxesSubplot:>"
      ]
     },
     "execution_count": 12,
     "metadata": {},
     "output_type": "execute_result"
    },
    {
     "data": {
      "image/png": "[encoded data removed]",
      "text/plain": [
       "<Figure size 648x648 with 2 Axes>"
      ]
     },
     "metadata": {},
     "output_type": "display_data"
    }
   ],
   "source": [
    "df_corr = pd.get_dummies(df, columns=[\"Sex\"], drop_first=True)\n",
    "df_corr = pd.get_dummies(df_corr, columns=[\"Embarked\"])\n",
    "print(df_corr.head())\n",
    "print(df_corr.corr())\n",
    "plt.figure(figsize=(9, 9))\n",
    "sns.heatmap(df_corr.corr(), vmax=1, vmin=-1, center=0, annot=True)"
   ]
  },
  {
   "cell_type": "code",
   "execution_count": 13,
   "metadata": {},
   "outputs": [
    {
     "name": "stdout",
     "output_type": "stream",
     "text": [
      "      PassengerId  Survived  Pclass  \\\n",
      "0               1       0.0       3   \n",
      "1               2       1.0       1   \n",
      "2               3       1.0       3   \n",
      "3               4       1.0       1   \n",
      "4               5       0.0       3   \n",
      "...           ...       ...     ...   \n",
      "1304         1305       NaN       3   \n",
      "1305         1306       NaN       1   \n",
      "1306         1307       NaN       3   \n",
      "1307         1308       NaN       3   \n",
      "1308         1309       NaN       3   \n",
      "\n",
      "                                                   Name     Sex   Age  SibSp  \\\n",
      "0                               Braund, Mr. Owen Harris    male  22.0      1   \n",
      "1     Cumings, Mrs. John Bradley (Florence Briggs Th...  female  38.0      1   \n",
      "2                                Heikkinen, Miss. Laina  female  26.0      0   \n",
      "3          Futrelle, Mrs. Jacques Heath (Lily May Peel)  female  35.0      1   \n",
      "4                              Allen, Mr. William Henry    male  35.0      0   \n",
      "...                                                 ...     ...   ...    ...   \n",
      "1304                                 Spector, Mr. Woolf    male   NaN      0   \n",
      "1305                       Oliva y Ocana, Dona. Fermina  female  39.0      0   \n",
      "1306                       Saether, Mr. Simon Sivertsen    male  38.5      0   \n",
      "1307                                Ware, Mr. Frederick    male   NaN      0   \n",
      "1308                           Peter, Master. Michael J    male   NaN      1   \n",
      "\n",
      "      Parch              Ticket      Fare Cabin Embarked  \n",
      "0         0           A/5 21171    7.2500   NaN        S  \n",
      "1         0            PC 17599   71.2833   C85        C  \n",
      "2         0    STON/O2. 3101282    7.9250   NaN        S  \n",
      "3         0              113803   53.1000  C123        S  \n",
      "4         0              373450    8.0500   NaN        S  \n",
      "...     ...                 ...       ...   ...      ...  \n",
      "1304      0           A.5. 3236    8.0500   NaN        S  \n",
      "1305      0            PC 17758  108.9000  C105        C  \n",
      "1306      0  SOTON/O.Q. 3101262    7.2500   NaN        S  \n",
      "1307      0              359309    8.0500   NaN        S  \n",
      "1308      1                2668   22.3583   NaN        C  \n",
      "\n",
      "[1309 rows x 12 columns]\n",
      "PassengerId       0\n",
      "Survived        418\n",
      "Pclass            0\n",
      "Name              0\n",
      "Sex               0\n",
      "Age             263\n",
      "SibSp             0\n",
      "Parch             0\n",
      "Ticket            0\n",
      "Fare              1\n",
      "Cabin          1014\n",
      "Embarked          2\n",
      "dtype: int64\n"
     ]
    }
   ],
   "source": [
    "all_df = pd.concat([df, test_df], sort=False).reset_index(drop=True)\n",
    "print(all_df)\n",
    "print(all_df.isnull().sum())"
   ]
  },
  {
   "cell_type": "code",
   "execution_count": 14,
   "metadata": {},
   "outputs": [
    {
     "name": "stdout",
     "output_type": "stream",
     "text": [
      "   Pclass       Fare\n",
      "0       1  87.508992\n",
      "1       2  21.179196\n",
      "2       3  13.302889\n",
      "   Pclass  Fare_mean\n",
      "0       1  87.508992\n",
      "1       2  21.179196\n",
      "2       3  13.302889\n",
      "      PassengerId  Survived  Pclass  \\\n",
      "0               1       0.0       3   \n",
      "1               2       1.0       1   \n",
      "2               3       1.0       3   \n",
      "3               4       1.0       1   \n",
      "4               5       0.0       3   \n",
      "...           ...       ...     ...   \n",
      "1304         1305       NaN       3   \n",
      "1305         1306       NaN       1   \n",
      "1306         1307       NaN       3   \n",
      "1307         1308       NaN       3   \n",
      "1308         1309       NaN       3   \n",
      "\n",
      "                                                   Name     Sex   Age  SibSp  \\\n",
      "0                               Braund, Mr. Owen Harris    male  22.0      1   \n",
      "1     Cumings, Mrs. John Bradley (Florence Briggs Th...  female  38.0      1   \n",
      "2                                Heikkinen, Miss. Laina  female  26.0      0   \n",
      "3          Futrelle, Mrs. Jacques Heath (Lily May Peel)  female  35.0      1   \n",
      "4                              Allen, Mr. William Henry    male  35.0      0   \n",
      "...                                                 ...     ...   ...    ...   \n",
      "1304                                 Spector, Mr. Woolf    male   NaN      0   \n",
      "1305                       Oliva y Ocana, Dona. Fermina  female  39.0      0   \n",
      "1306                       Saether, Mr. Simon Sivertsen    male  38.5      0   \n",
      "1307                                Ware, Mr. Frederick    male   NaN      0   \n",
      "1308                           Peter, Master. Michael J    male   NaN      1   \n",
      "\n",
      "      Parch              Ticket      Fare Cabin Embarked  Fare_mean  \n",
      "0         0           A/5 21171    7.2500   NaN        S  13.302889  \n",
      "1         0            PC 17599   71.2833   C85        C  87.508992  \n",
      "2         0    STON/O2. 3101282    7.9250   NaN        S  13.302889  \n",
      "3         0              113803   53.1000  C123        S  87.508992  \n",
      "4         0              373450    8.0500   NaN        S  13.302889  \n",
      "...     ...                 ...       ...   ...      ...        ...  \n",
      "1304      0           A.5. 3236    8.0500   NaN        S  13.302889  \n",
      "1305      0            PC 17758  108.9000  C105        C  87.508992  \n",
      "1306      0  SOTON/O.Q. 3101262    7.2500   NaN        S  13.302889  \n",
      "1307      0              359309    8.0500   NaN        S  13.302889  \n",
      "1308      1                2668   22.3583   NaN        C  13.302889  \n",
      "\n",
      "[1309 rows x 13 columns]\n"
     ]
    }
   ],
   "source": [
    "fare_mean = all_df[[\"Pclass\", \"Fare\"]].groupby([\"Pclass\"]).mean().reset_index()\n",
    "print(fare_mean)\n",
    "fare_mean.columns = [\"Pclass\", \"Fare_mean\"]\n",
    "print(fare_mean)\n",
    "\n",
    "all_df = pd.merge(all_df, fare_mean, on=\"Pclass\", how=\"left\")\n",
    "all_df.loc[(all_df[\"Fare\"].isnull()), \"Fare\"] = all_df[\"Fare_mean\"]\n",
    "print(all_df)"
   ]
  },
  {
   "cell_type": "code",
   "execution_count": 15,
   "metadata": {},
   "outputs": [
    {
     "name": "stdout",
     "output_type": "stream",
     "text": [
      "0                              Braund, Mr. Owen Harris\n",
      "1    Cumings, Mrs. John Bradley (Florence Briggs Th...\n",
      "2                               Heikkinen, Miss. Laina\n",
      "3         Futrelle, Mrs. Jacques Heath (Lily May Peel)\n",
      "4                             Allen, Mr. William Henry\n",
      "5                                     Moran, Mr. James\n",
      "6                              McCarthy, Mr. Timothy J\n",
      "7                       Palsson, Master. Gosta Leonard\n",
      "8    Johnson, Mrs. Oscar W (Elisabeth Vilhelmina Berg)\n",
      "9                  Nasser, Mrs. Nicholas (Adele Achem)\n",
      "Name: Name, dtype: object\n",
      "        family_name honorific                                    name\n",
      "0            Braund        Mr                             Owen Harris\n",
      "1           Cumings       Mrs   John Bradley (Florence Briggs Thayer)\n",
      "2         Heikkinen      Miss                                   Laina\n",
      "3          Futrelle       Mrs           Jacques Heath (Lily May Peel)\n",
      "4             Allen        Mr                           William Henry\n",
      "...             ...       ...                                     ...\n",
      "1304        Spector        Mr                                   Woolf\n",
      "1305  Oliva y Ocana      Dona                                 Fermina\n",
      "1306        Saether        Mr                         Simon Sivertsen\n",
      "1307           Ware        Mr                               Frederick\n",
      "1308          Peter    Master                               Michael J\n",
      "\n",
      "[1309 rows x 3 columns]\n",
      "Mr              757\n",
      "Miss            260\n",
      "Mrs             197\n",
      "Master           61\n",
      "Rev               8\n",
      "Dr                8\n",
      "Col               4\n",
      "Major             2\n",
      "Mlle              2\n",
      "Ms                2\n",
      "Dona              1\n",
      "Don               1\n",
      "Mme               1\n",
      "Lady              1\n",
      "Capt              1\n",
      "Sir               1\n",
      "the Countess      1\n",
      "Jonkheer          1\n",
      "Name: honorific, dtype: int64\n"
     ]
    }
   ],
   "source": [
    "# Mr.: 男性全体\n",
    "# Master.: 男性の子供\n",
    "# Mrs.: 未婚女性\n",
    "# Miss.: 既婚女性\n",
    "print(all_df[\"Name\"].head(10))\n",
    "name_df = all_df[\"Name\"].str.split(\"[,.]\", 2, expand=True)\n",
    "name_df.columns = [\"family_name\", \"honorific\", \"name\"]\n",
    "print(name_df)\n",
    "name_df[\"family_name\"] = name_df[\"family_name\"].str.strip()\n",
    "name_df[\"honorific\"] = name_df[\"honorific\"].str.strip()\n",
    "name_df[\"name\"] = name_df[\"name\"].str.strip()\n",
    "print(name_df[\"honorific\"].value_counts())"
   ]
  },
  {
   "cell_type": "code",
   "execution_count": 16,
   "metadata": {},
   "outputs": [
    {
     "name": "stdout",
     "output_type": "stream",
     "text": [
      "Index(['PassengerId', 'Survived', 'Pclass', 'Name', 'Sex', 'Age', 'SibSp',\n",
      "       'Parch', 'Ticket', 'Fare', 'Cabin', 'Embarked', 'Fare_mean',\n",
      "       'family_name', 'honorific', 'name'],\n",
      "      dtype='object')\n"
     ]
    },
    {
     "data": {
      "text/plain": [
       "<AxesSubplot:xlabel='honorific', ylabel='Age'>"
      ]
     },
     "execution_count": 16,
     "metadata": {},
     "output_type": "execute_result"
    },
    {
     "data": {
      "image/png": "[encoded data removed]",
      "text/plain": [
       "<Figure size 1440x360 with 1 Axes>"
      ]
     },
     "metadata": {},
     "output_type": "display_data"
    }
   ],
   "source": [
    "all_df = pd.concat([all_df[['PassengerId', 'Survived', 'Pclass', 'Name', 'Sex', 'Age', 'SibSp',\n",
    "       'Parch', 'Ticket', 'Fare', 'Cabin', 'Embarked', 'Fare_mean']], name_df], axis=1)\n",
    "print(all_df.columns)\n",
    "\n",
    "plt.figure(figsize=(20, 5))\n",
    "sns.boxplot(x=\"honorific\", y=\"Age\", data=all_df)"
   ]
  },
  {
   "cell_type": "code",
   "execution_count": 17,
   "metadata": {},
   "outputs": [
    {
     "name": "stdout",
     "output_type": "stream",
     "text": [
      "                    Age\n",
      "honorific              \n",
      "Capt          70.000000\n",
      "Col           54.000000\n",
      "Don           40.000000\n",
      "Dona          39.000000\n",
      "Dr            43.571429\n",
      "Jonkheer      38.000000\n",
      "Lady          48.000000\n",
      "Major         48.500000\n",
      "Master         5.482642\n",
      "Miss          21.774238\n",
      "Mlle          24.000000\n",
      "Mme           24.000000\n",
      "Mr            32.252151\n",
      "Mrs           36.994118\n",
      "Ms            28.000000\n",
      "Rev           41.250000\n",
      "Sir           49.000000\n",
      "the Countess  33.000000\n",
      "   PassengerId  Survived  Pclass  \\\n",
      "0            1         0       3   \n",
      "1            2         1       1   \n",
      "2            3         1       3   \n",
      "3            4         1       1   \n",
      "4            5         0       3   \n",
      "\n",
      "                                                Name     Sex   Age  SibSp  \\\n",
      "0                            Braund, Mr. Owen Harris    male  22.0      1   \n",
      "1  Cumings, Mrs. John Bradley (Florence Briggs Th...  female  38.0      1   \n",
      "2                             Heikkinen, Miss. Laina  female  26.0      0   \n",
      "3       Futrelle, Mrs. Jacques Heath (Lily May Peel)  female  35.0      1   \n",
      "4                           Allen, Mr. William Henry    male  35.0      0   \n",
      "\n",
      "   Parch            Ticket     Fare Cabin Embarked family_name honorific  \\\n",
      "0      0         A/5 21171   7.2500   NaN        S      Braund        Mr   \n",
      "1      0          PC 17599  71.2833   C85        C     Cumings       Mrs   \n",
      "2      0  STON/O2. 3101282   7.9250   NaN        S   Heikkinen      Miss   \n",
      "3      0            113803  53.1000  C123        S    Futrelle       Mrs   \n",
      "4      0            373450   8.0500   NaN        S       Allen        Mr   \n",
      "\n",
      "                                    name  \n",
      "0                            Owen Harris  \n",
      "1  John Bradley (Florence Briggs Thayer)  \n",
      "2                                  Laina  \n",
      "3          Jacques Heath (Lily May Peel)  \n",
      "4                          William Henry  \n",
      "   PassengerId  Pclass                                          Name     Sex  \\\n",
      "0          892       3                              Kelly, Mr. James    male   \n",
      "1          893       3              Wilkes, Mrs. James (Ellen Needs)  female   \n",
      "2          894       2                     Myles, Mr. Thomas Francis    male   \n",
      "3          895       3                              Wirz, Mr. Albert    male   \n",
      "4          896       3  Hirvonen, Mrs. Alexander (Helga E Lindqvist)  female   \n",
      "\n",
      "    Age  SibSp  Parch   Ticket     Fare Cabin Embarked family_name honorific  \\\n",
      "0  34.5      0      0   330911   7.8292   NaN        Q       Kelly        Mr   \n",
      "1  47.0      1      0   363272   7.0000   NaN        S      Wilkes       Mrs   \n",
      "2  62.0      0      0   240276   9.6875   NaN        Q       Myles        Mr   \n",
      "3  27.0      0      0   315154   8.6625   NaN        S        Wirz        Mr   \n",
      "4  22.0      1      1  3101298  12.2875   NaN        S    Hirvonen       Mrs   \n",
      "\n",
      "                            name  \n",
      "0                          James  \n",
      "1            James (Ellen Needs)  \n",
      "2                 Thomas Francis  \n",
      "3                         Albert  \n",
      "4  Alexander (Helga E Lindqvist)  \n"
     ]
    },
    {
     "data": {
      "text/plain": [
       "<AxesSubplot:xlabel='honorific'>"
      ]
     },
     "execution_count": 17,
     "metadata": {},
     "output_type": "execute_result"
    },
    {
     "data": {
      "image/png": "[encoded data removed]",
      "text/plain": [
       "<Figure size 432x288 with 1 Axes>"
      ]
     },
     "metadata": {},
     "output_type": "display_data"
    }
   ],
   "source": [
    "print(all_df[[\"Age\", \"honorific\"]].groupby(\"honorific\").mean())\n",
    "tmp_df = pd.concat([df, name_df[0:len(df)].reset_index(drop=True)], axis=1)\n",
    "print(tmp_df.head(5))\n",
    "tmp_df2 = pd.concat([test_df, name_df[len(df):].reset_index(drop=True)], axis=1)\n",
    "print(tmp_df2.head(5))\n",
    "\n",
    "honorific_df = tmp_df[[\"honorific\", \"Survived\", \"PassengerId\"]].dropna().groupby([\"honorific\", \"Survived\"]).count().unstack()\n",
    "honorific_df.plot.bar(stacked=True)"
   ]
  },
  {
   "cell_type": "code",
   "execution_count": 18,
   "metadata": {},
   "outputs": [
    {
     "name": "stdout",
     "output_type": "stream",
     "text": [
      "       honorific  honorific_Age\n",
      "0           Capt      70.000000\n",
      "1            Col      54.000000\n",
      "2            Don      40.000000\n",
      "3           Dona      39.000000\n",
      "4             Dr      43.571429\n",
      "5       Jonkheer      38.000000\n",
      "6           Lady      48.000000\n",
      "7          Major      48.500000\n",
      "8         Master       5.482642\n",
      "9           Miss      21.774238\n",
      "10          Mlle      24.000000\n",
      "11           Mme      24.000000\n",
      "12            Mr      32.252151\n",
      "13           Mrs      36.994118\n",
      "14            Ms      28.000000\n",
      "15           Rev      41.250000\n",
      "16           Sir      49.000000\n",
      "17  the Countess      33.000000\n",
      "Series([], Name: Age, dtype: float64)\n"
     ]
    }
   ],
   "source": [
    "honorific_age_mean = all_df[[\"honorific\", \"Age\"]].groupby(\"honorific\").mean().reset_index()\n",
    "honorific_age_mean.columns = [\"honorific\", \"honorific_Age\"]\n",
    "print(honorific_age_mean)\n",
    "\n",
    "all_df = pd.merge(all_df[['PassengerId', 'Survived', 'Pclass', 'Name', 'Sex', 'Age', 'SibSp',\n",
    "       'Parch', 'Ticket', 'Fare', 'Cabin', 'Embarked', 'Fare_mean',\n",
    "       'family_name', 'honorific', 'name']], honorific_age_mean, on=\"honorific\", how=\"left\")\n",
    "all_df.loc[(all_df[\"Age\"].isnull()), \"Age\"] = all_df[\"honorific_Age\"]\n",
    "print(all_df.loc[(all_df[\"Age\"].isnull()), \"Age\"])"
   ]
  },
  {
   "cell_type": "code",
   "execution_count": 19,
   "metadata": {},
   "outputs": [
    {
     "name": "stdout",
     "output_type": "stream",
     "text": [
      "0     790\n",
      "1     235\n",
      "2     159\n",
      "3      43\n",
      "5      25\n",
      "4      22\n",
      "6      16\n",
      "10     11\n",
      "7       8\n",
      "Name: family_num, dtype: int64\n",
      "           PassengerId       \n",
      "Survived           0.0    1.0\n",
      "family_num                   \n",
      "0                374.0  163.0\n",
      "1                 72.0   89.0\n",
      "2                 43.0   59.0\n",
      "3                  8.0   21.0\n",
      "4                 12.0    3.0\n",
      "5                 19.0    3.0\n",
      "6                  8.0    4.0\n",
      "7                  6.0    NaN\n",
      "10                 7.0    NaN\n"
     ]
    },
    {
     "data": {
      "image/png": "[encoded data removed]",
      "text/plain": [
       "<Figure size 432x288 with 1 Axes>"
      ]
     },
     "metadata": {},
     "output_type": "display_data"
    }
   ],
   "source": [
    "all_df[\"family_num\"] = all_df[\"Parch\"] + all_df[\"SibSp\"]\n",
    "print(all_df[\"family_num\"].value_counts())\n",
    "family_num_df = all_df[[\"family_num\", \"Survived\", \"PassengerId\"]].groupby([\"family_num\", \"Survived\"]).count().unstack()\n",
    "print(family_num_df)\n",
    "family_num_df.plot.bar(stacked=True)\n",
    "\n",
    "all_df.loc[all_df[\"family_num\"] == 0, \"alone\"] = 1\n",
    "all_df[\"alone\"].fillna(0, inplace=True)"
   ]
  },
  {
   "cell_type": "code",
   "execution_count": 20,
   "metadata": {},
   "outputs": [
    {
     "name": "stdout",
     "output_type": "stream",
     "text": [
      "      Survived  Pclass     Sex        Age  SibSp  Parch      Fare Embarked  \\\n",
      "0          0.0       3    male  22.000000      1      0    7.2500        S   \n",
      "1          1.0       1  female  38.000000      1      0   71.2833        C   \n",
      "2          1.0       3  female  26.000000      0      0    7.9250        S   \n",
      "3          1.0       1  female  35.000000      1      0   53.1000        S   \n",
      "4          0.0       3    male  35.000000      0      0    8.0500        S   \n",
      "...        ...     ...     ...        ...    ...    ...       ...      ...   \n",
      "1304       NaN       3    male  32.252151      0      0    8.0500        S   \n",
      "1305       NaN       1  female  39.000000      0      0  108.9000        C   \n",
      "1306       NaN       3    male  38.500000      0      0    7.2500        S   \n",
      "1307       NaN       3    male  32.252151      0      0    8.0500        S   \n",
      "1308       NaN       3    male   5.482642      1      1   22.3583        C   \n",
      "\n",
      "      Fare_mean honorific  honorific_Age  family_num  alone  \n",
      "0     13.302889        Mr      32.252151           1    0.0  \n",
      "1     87.508992       Mrs      36.994118           1    0.0  \n",
      "2     13.302889      Miss      21.774238           0    1.0  \n",
      "3     87.508992       Mrs      36.994118           1    0.0  \n",
      "4     13.302889        Mr      32.252151           0    1.0  \n",
      "...         ...       ...            ...         ...    ...  \n",
      "1304  13.302889        Mr      32.252151           0    1.0  \n",
      "1305  87.508992      Dona      39.000000           0    1.0  \n",
      "1306  13.302889        Mr      32.252151           0    1.0  \n",
      "1307  13.302889        Mr      32.252151           0    1.0  \n",
      "1308  13.302889    Master       5.482642           2    0.0  \n",
      "\n",
      "[1309 rows x 13 columns]\n"
     ]
    }
   ],
   "source": [
    "drop_all_df = all_df.drop([\"PassengerId\", \"Name\", \"family_name\", \"name\", \"Ticket\", \"Cabin\"], axis=1)\n",
    "print(drop_all_df)"
   ]
  },
  {
   "cell_type": "code",
   "execution_count": 21,
   "metadata": {},
   "outputs": [
    {
     "name": "stdout",
     "output_type": "stream",
     "text": [
      "Index(['Sex', 'Embarked', 'honorific'], dtype='object')\n",
      "Mr        757\n",
      "Miss      260\n",
      "Mrs       197\n",
      "Master     61\n",
      "other      34\n",
      "Name: honorific, dtype: int64\n",
      "False\n"
     ]
    }
   ],
   "source": [
    "categories = drop_all_df.columns[drop_all_df.dtypes == \"object\"]\n",
    "print(categories)\n",
    "\n",
    "drop_all_df.loc[~((drop_all_df[\"honorific\"] == \"Mr\") | (drop_all_df[\"honorific\"] == \"Miss\") | (drop_all_df[\"honorific\"] == \"Master\") | (drop_all_df[\"honorific\"] == \"Mrs\")), \"honorific\"] = \"other\"\n",
    "print(drop_all_df.honorific.value_counts())\n",
    "\n",
    "drop_all_df[\"Embarked\"].fillna(\"missing\", inplace=True)\n",
    "print(drop_all_df[\"Embarked\"].isnull().any())"
   ]
  },
  {
   "cell_type": "code",
   "execution_count": 22,
   "metadata": {},
   "outputs": [
    {
     "name": "stdout",
     "output_type": "stream",
     "text": [
      "Sex\n",
      "1    843\n",
      "0    466\n",
      "Name: Sex, dtype: int64\n",
      "Embarked\n",
      "2    914\n",
      "0    270\n",
      "1    123\n",
      "3      2\n",
      "Name: Embarked, dtype: int64\n",
      "honorific\n",
      "2    757\n",
      "1    260\n",
      "3    197\n",
      "0     61\n",
      "4     34\n",
      "Name: honorific, dtype: int64\n",
      "   Survived  Pclass  Sex   Age  SibSp  Parch     Fare  Embarked  Fare_mean  \\\n",
      "0       0.0       3    1  22.0      1      0   7.2500         2  13.302889   \n",
      "1       1.0       1    0  38.0      1      0  71.2833         0  87.508992   \n",
      "2       1.0       3    0  26.0      0      0   7.9250         2  13.302889   \n",
      "3       1.0       1    0  35.0      1      0  53.1000         2  87.508992   \n",
      "4       0.0       3    1  35.0      0      0   8.0500         2  13.302889   \n",
      "\n",
      "   honorific  honorific_Age  family_num  alone  \n",
      "0          2      32.252151           1    0.0  \n",
      "1          3      36.994118           1    0.0  \n",
      "2          1      21.774238           0    1.0  \n",
      "3          3      36.994118           1    0.0  \n",
      "4          2      32.252151           0    1.0  \n",
      "2    757\n",
      "1    260\n",
      "3    197\n",
      "0     61\n",
      "4     34\n",
      "Name: honorific, dtype: int64\n"
     ]
    }
   ],
   "source": [
    "# le = LabelEncoder()\n",
    "# le = le.fit(drop_all_df[\"Sex\"])\n",
    "# drop_all_df[\"Sex\"] = le.transform(drop_all_df[\"Sex\"])\n",
    "# print(drop_all_df[\"Sex\"].value_counts())\n",
    "\n",
    "for cat in categories:\n",
    "    print(cat)\n",
    "    le = LabelEncoder()\n",
    "    if drop_all_df[cat].dtypes == \"object\":\n",
    "        le = le.fit(drop_all_df[cat])\n",
    "        drop_all_df[cat] = le.transform(drop_all_df[cat])\n",
    "        print(drop_all_df[cat].value_counts())\n",
    "print(drop_all_df.head())\n",
    "print(drop_all_df[\"honorific\"].value_counts())"
   ]
  },
  {
   "cell_type": "code",
   "execution_count": 23,
   "metadata": {},
   "outputs": [
    {
     "name": "stdout",
     "output_type": "stream",
     "text": [
      "   Survived  Pclass  Sex   Age  SibSp  Parch     Fare  Embarked  Fare_mean  \\\n",
      "0       0.0       3    1  22.0      1      0   7.2500         2  13.302889   \n",
      "1       1.0       1    0  38.0      1      0  71.2833         0  87.508992   \n",
      "2       1.0       3    0  26.0      0      0   7.9250         2  13.302889   \n",
      "3       1.0       1    0  35.0      1      0  53.1000         2  87.508992   \n",
      "4       0.0       3    1  35.0      0      0   8.0500         2  13.302889   \n",
      "\n",
      "   honorific  honorific_Age  family_num  alone  \n",
      "0          2      32.252151           1    0.0  \n",
      "1          3      36.994118           1    0.0  \n",
      "2          1      21.774238           0    1.0  \n",
      "3          3      36.994118           1    0.0  \n",
      "4          2      32.252151           0    1.0  \n",
      "<class 'pandas.core.frame.DataFrame'>\n",
      "Int64Index: 1309 entries, 0 to 1308\n",
      "Data columns (total 13 columns):\n",
      " #   Column         Non-Null Count  Dtype  \n",
      "---  ------         --------------  -----  \n",
      " 0   Survived       891 non-null    float64\n",
      " 1   Pclass         1309 non-null   int64  \n",
      " 2   Sex            1309 non-null   int64  \n",
      " 3   Age            1309 non-null   float64\n",
      " 4   SibSp          1309 non-null   int64  \n",
      " 5   Parch          1309 non-null   int64  \n",
      " 6   Fare           1309 non-null   float64\n",
      " 7   Embarked       1309 non-null   int64  \n",
      " 8   Fare_mean      1309 non-null   float64\n",
      " 9   honorific      1309 non-null   int64  \n",
      " 10  honorific_Age  1309 non-null   float64\n",
      " 11  family_num     1309 non-null   int64  \n",
      " 12  alone          1309 non-null   float64\n",
      "dtypes: float64(6), int64(7)\n",
      "memory usage: 183.2 KB\n",
      "None\n"
     ]
    }
   ],
   "source": [
    "print(drop_all_df.head())\n",
    "print(drop_all_df.info())\n",
    "\n"
   ]
  },
  {
   "cell_type": "code",
   "execution_count": 24,
   "metadata": {},
   "outputs": [
    {
     "name": "stdout",
     "output_type": "stream",
     "text": [
      "   Pclass  Sex   Age  SibSp  Parch     Fare  Embarked  Fare_mean  honorific  \\\n",
      "0       3    1  22.0      1      0   7.2500         2  13.302889          2   \n",
      "1       1    0  38.0      1      0  71.2833         0  87.508992          3   \n",
      "2       3    0  26.0      0      0   7.9250         2  13.302889          1   \n",
      "3       1    0  35.0      1      0  53.1000         2  87.508992          3   \n",
      "4       3    1  35.0      0      0   8.0500         2  13.302889          2   \n",
      "\n",
      "   honorific_Age  family_num  alone  \n",
      "0      32.252151           1    0.0  \n",
      "1      36.994118           1    0.0  \n",
      "2      21.774238           0    1.0  \n",
      "3      36.994118           1    0.0  \n",
      "4      32.252151           0    1.0  \n",
      "0    0\n",
      "1    1\n",
      "2    1\n",
      "3    1\n",
      "4    0\n",
      "Name: Survived, dtype: int64\n",
      "   Pclass  Sex   Age  SibSp  Parch     Fare  Embarked  Fare_mean  honorific  \\\n",
      "0       3    1  34.5      0      0   7.8292         1  13.302889          2   \n",
      "1       3    0  47.0      1      0   7.0000         2  13.302889          3   \n",
      "2       2    1  62.0      0      0   9.6875         1  21.179196          2   \n",
      "3       3    1  27.0      0      0   8.6625         2  13.302889          2   \n",
      "4       3    0  22.0      1      1  12.2875         2  13.302889          3   \n",
      "\n",
      "   honorific_Age  family_num  alone  \n",
      "0      32.252151           0    1.0  \n",
      "1      36.994118           1    0.0  \n",
      "2      32.252151           0    1.0  \n",
      "3      32.252151           0    1.0  \n",
      "4      36.994118           2    0.0  \n"
     ]
    }
   ],
   "source": [
    "train_X = drop_all_df[~drop_all_df[\"Survived\"].isnull()].drop(\"Survived\", axis=1).reset_index(drop=True)\n",
    "train_Y = df[\"Survived\"]\n",
    "\n",
    "test_X = drop_all_df[drop_all_df[\"Survived\"].isnull()].drop(\"Survived\", axis=1).reset_index(drop=True)\n",
    "\n",
    "print(train_X.head())\n",
    "print(train_Y.head())\n",
    "print(test_X.head())"
   ]
  },
  {
   "cell_type": "code",
   "execution_count": 29,
   "metadata": {},
   "outputs": [
    {
     "name": "stdout",
     "output_type": "stream",
     "text": [
      "[LightGBM] [Info] Number of positive: 281, number of negative: 431\n",
      "[LightGBM] [Warning] Auto-choosing row-wise multi-threading, the overhead of testing was 0.000475 seconds.\n",
      "You can set `force_row_wise=true` to remove the overhead.\n",
      "And if memory is not enough, you can set `force_col_wise=true`.\n",
      "[LightGBM] [Info] Total Bins 239\n",
      "[LightGBM] [Info] Number of data points in the train set: 712, number of used features: 12\n",
      "[LightGBM] [Info] [binary:BoostFromScore]: pavg=0.394663 -> initscore=-0.427753\n",
      "[LightGBM] [Info] Start training from score -0.427753\n",
      "[LightGBM] [Warning] No further splits with positive gain, best gain: -inf\n",
      "Training until validation scores don't improve for 20 rounds\n",
      "[LightGBM] [Warning] No further splits with positive gain, best gain: -inf\n",
      "[LightGBM] [Warning] No further splits with positive gain, best gain: -inf\n",
      "[LightGBM] [Warning] No further splits with positive gain, best gain: -inf\n",
      "[LightGBM] [Warning] No further splits with positive gain, best gain: -inf\n",
      "[LightGBM] [Warning] No further splits with positive gain, best gain: -inf\n",
      "[LightGBM] [Warning] No further splits with positive gain, best gain: -inf\n",
      "[LightGBM] [Warning] No further splits with positive gain, best gain: -inf\n",
      "[LightGBM] [Warning] No further splits with positive gain, best gain: -inf\n",
      "[LightGBM] [Warning] No further splits with positive gain, best gain: -inf\n",
      "[10]\tvalid_0's binary_logloss: 0.435345\n",
      "[LightGBM] [Warning] No further splits with positive gain, best gain: -inf\n",
      "[LightGBM] [Warning] No further splits with positive gain, best gain: -inf\n",
      "[LightGBM] [Warning] No further splits with positive gain, best gain: -inf\n",
      "[LightGBM] [Warning] No further splits with positive gain, best gain: -inf\n",
      "[LightGBM] [Warning] No further splits with positive gain, best gain: -inf\n",
      "[LightGBM] [Warning] No further splits with positive gain, best gain: -inf\n",
      "[LightGBM] [Warning] No further splits with positive gain, best gain: -inf\n",
      "[LightGBM] [Warning] No further splits with positive gain, best gain: -inf\n",
      "[LightGBM] [Warning] No further splits with positive gain, best gain: -inf\n",
      "[LightGBM] [Warning] No further splits with positive gain, best gain: -inf\n",
      "[20]\tvalid_0's binary_logloss: 0.39008\n",
      "[LightGBM] [Warning] No further splits with positive gain, best gain: -inf\n",
      "[LightGBM] [Warning] No further splits with positive gain, best gain: -inf\n",
      "[LightGBM] [Warning] No further splits with positive gain, best gain: -inf\n",
      "[LightGBM] [Warning] No further splits with positive gain, best gain: -inf\n",
      "[LightGBM] [Warning] No further splits with positive gain, best gain: -inf\n",
      "[LightGBM] [Warning] No further splits with positive gain, best gain: -inf\n",
      "[LightGBM] [Warning] No further splits with positive gain, best gain: -inf\n",
      "[LightGBM] [Warning] No further splits with positive gain, best gain: -inf\n",
      "[LightGBM] [Warning] No further splits with positive gain, best gain: -inf\n",
      "[LightGBM] [Warning] No further splits with positive gain, best gain: -inf\n",
      "[30]\tvalid_0's binary_logloss: 0.38023\n",
      "[LightGBM] [Warning] No further splits with positive gain, best gain: -inf\n",
      "[LightGBM] [Warning] No further splits with positive gain, best gain: -inf\n",
      "[LightGBM] [Warning] No further splits with positive gain, best gain: -inf\n",
      "[LightGBM] [Warning] No further splits with positive gain, best gain: -inf\n",
      "[LightGBM] [Warning] No further splits with positive gain, best gain: -inf\n",
      "[LightGBM] [Warning] No further splits with positive gain, best gain: -inf\n",
      "[LightGBM] [Warning] No further splits with positive gain, best gain: -inf\n",
      "[LightGBM] [Warning] No further splits with positive gain, best gain: -inf\n",
      "[LightGBM] [Warning] No further splits with positive gain, best gain: -inf\n",
      "[LightGBM] [Warning] No further splits with positive gain, best gain: -inf\n",
      "[40]\tvalid_0's binary_logloss: 0.380677\n",
      "[LightGBM] [Warning] No further splits with positive gain, best gain: -inf\n",
      "[LightGBM] [Warning] No further splits with positive gain, best gain: -inf\n",
      "[LightGBM] [Warning] No further splits with positive gain, best gain: -inf\n",
      "[LightGBM] [Warning] No further splits with positive gain, best gain: -inf\n",
      "[LightGBM] [Warning] No further splits with positive gain, best gain: -inf\n",
      "[LightGBM] [Warning] No further splits with positive gain, best gain: -inf\n",
      "[LightGBM] [Warning] No further splits with positive gain, best gain: -inf\n",
      "[LightGBM] [Warning] No further splits with positive gain, best gain: -inf\n",
      "[LightGBM] [Warning] No further splits with positive gain, best gain: -inf\n",
      "[50]\tvalid_0's binary_logloss: 0.391441\n",
      "[LightGBM] [Warning] No further splits with positive gain, best gain: -inf\n",
      "[LightGBM] [Warning] No further splits with positive gain, best gain: -inf\n",
      "[LightGBM] [Warning] No further splits with positive gain, best gain: -inf\n",
      "[LightGBM] [Warning] No further splits with positive gain, best gain: -inf\n",
      "[LightGBM] [Warning] No further splits with positive gain, best gain: -inf\n",
      "Early stopping, best iteration is:\n",
      "[35]\tvalid_0's binary_logloss: 0.377344\n",
      "[ 43  30 323  25   6 379  49   0   2  23  30   6]\n"
     ]
    }
   ],
   "source": [
    "X_train, X_valid, y_train, y_valid = train_test_split(train_X, train_Y, test_size=0.2)\n",
    "categories = [\"Embarked\", \"Pclass\", \"Sex\", \"honorific\", \"alone\"]\n",
    "\n",
    "lgb_train = lgb.Dataset(X_train, y_train, categorical_feature=categories)\n",
    "lgb_eval = lgb.Dataset(X_valid, y_valid, categorical_feature=categories, reference=lgb_train)\n",
    "\n",
    "lgb_params = {\n",
    "    \"objective\": \"binary\",\n",
    "    \"random_seed\": 1234\n",
    "}\n",
    "\n",
    "model_lgb = lgb.train(lgb_params, lgb_train, valid_sets=lgb_eval, num_boost_round=100, early_stopping_rounds=20, verbose_eval=10)\n",
    "print(model_lgb.feature_importance())"
   ]
  },
  {
   "cell_type": "code",
   "execution_count": 31,
   "metadata": {},
   "outputs": [
    {
     "data": {
      "text/plain": [
       "<AxesSubplot:>"
      ]
     },
     "execution_count": 31,
     "metadata": {},
     "output_type": "execute_result"
    },
    {
     "data": {
      "image/png": "[encoded data removed]",
      "text/plain": [
       "<Figure size 432x288 with 1 Axes>"
      ]
     },
     "metadata": {},
     "output_type": "display_data"
    }
   ],
   "source": [
    "importance = pd.DataFrame(model_lgb.feature_importance(), index=X_train.columns, columns=[\"importance\"]).sort_values(by=\"importance\", ascending=True)\n",
    "importance.plot.barh()"
   ]
  },
  {
   "cell_type": "code",
   "execution_count": 34,
   "metadata": {},
   "outputs": [
    {
     "name": "stdout",
     "output_type": "stream",
     "text": [
      "0.8491620111731844\n"
     ]
    }
   ],
   "source": [
    "from sklearn.metrics import accuracy_score\n",
    "y_pred = model_lgb.predict(X_valid, num_iteration=model_lgb.best_iteration)\n",
    "print(accuracy_score(y_valid, np.round(y_pred)))"
   ]
  },
  {
   "cell_type": "code",
   "execution_count": null,
   "metadata": {},
   "outputs": [],
   "source": []
  }
 ],
 "metadata": {
  "kernelspec": {
   "display_name": "Python 3",
   "language": "python",
   "name": "python3"
  },
  "language_info": {
   "codemirror_mode": {
    "name": "ipython",
    "version": 3
   },
   "file_extension": ".py",
   "mimetype": "text/x-python",
   "name": "python",
   "nbconvert_exporter": "python",
   "pygments_lexer": "ipython3",
   "version": "3.8.3"
  }
 },
 "nbformat": 4,
 "nbformat_minor": 4
}
